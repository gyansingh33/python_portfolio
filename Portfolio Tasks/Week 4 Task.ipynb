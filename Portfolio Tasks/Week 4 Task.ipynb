{
 "cells": [
  {
   "cell_type": "markdown",
   "id": "53790723-c742-4f38-8bde-9790c3f2c7cc",
   "metadata": {},
   "source": [
    "1. Functions are often used to validate input. Write a function that accepts a single\n",
    "integer as a parameter and returns True if the integer is in the range 0 to 100\n",
    "(inclusive), or False otherwise. Write a short program to test the function."
   ]
  },
  {
   "cell_type": "code",
   "execution_count": 10,
   "id": "fcb7fb1d-bbdc-41f4-8a4c-221fca60343a",
   "metadata": {},
   "outputs": [
    {
     "name": "stdout",
     "output_type": "stream",
     "text": [
      "90 is True\n",
      "0 is True\n",
      "10000 is False\n"
     ]
    }
   ],
   "source": [
    "def num(a):\n",
    "    return 0 <= a <= 100\n",
    "test = [-6, 90, -30, 0, 10000]\n",
    "for i in test:\n",
    "    if num(i):\n",
    "        print(f\"{i} is True\")\n",
    "else:\n",
    "        print(f\"{i} is False\")"
   ]
  },
  {
   "cell_type": "markdown",
   "id": "0a017c7d-e82a-4259-b53c-6c80f0b0e3ad",
   "metadata": {},
   "source": [
    "2. Write a function that has a single string as its parameter, and returns the number of\n",
    "uppercase letters, and the number of lowercase letters in the string. Test the\n",
    "function with a short program."
   ]
  },
  {
   "cell_type": "code",
   "execution_count": 12,
   "id": "80055920-fb80-4652-a3b8-22a4d3213a4e",
   "metadata": {},
   "outputs": [
    {
     "name": "stdout",
     "output_type": "stream",
     "text": [
      "(Hi friends, My name is Gyan Singh Pun.) in this string has 5 uppercase letters and 24 lowercase letters.\n"
     ]
    }
   ],
   "source": [
    "def letters(a):\n",
    "    uppercase_letters = 0\n",
    "    lowercase_letters = 0\n",
    "    for text in a:\n",
    "        if text.isupper():\n",
    "            uppercase_letters += 1\n",
    "        elif text.islower():\n",
    "            lowercase_letters += 1\n",
    "    return uppercase_letters, lowercase_letters\n",
    "test = (\"(Hi friends, My name is Gyan Singh Pun.)\")\n",
    "uppercase, lowercase = letters(test)\n",
    "print(f\"{test} in this string has {uppercase} uppercase letters and {lowercase} lowercase letters.\")\n"
   ]
  },
  {
   "cell_type": "markdown",
   "id": "9ab39b72-a7b8-4b78-bb92-1eca2dda7d57",
   "metadata": {},
   "source": [
    "3. Modify your \"greetings\" program so that the first letter of the name entered is\n",
    "always in uppercase with the rest in lowercase. This should happen even if the user\n",
    "entered their name differently. So if the user entered arthur, ARTHUR, or even\n",
    "arTHur the name should be displayed as Arthur."
   ]
  },
  {
   "cell_type": "code",
   "execution_count": 14,
   "id": "ded3215f-45aa-4932-b27f-932bbf1b8611",
   "metadata": {},
   "outputs": [
    {
     "name": "stdout",
     "output_type": "stream",
     "text": [
      "Enter your name: gyan singh pun\n"
     ]
    },
    {
     "name": "stdout",
     "output_type": "stream",
     "text": [
      "Gyan singh pun\n"
     ]
    }
   ],
   "source": [
    "name = input(\"Enter your name:\")\n",
    "name = name.capitalize()\n",
    "if name.capitalize():\n",
    "    print(name)\n",
    "else:\n",
    "    print(\"Please enter your name?\")\n"
   ]
  },
  {
   "cell_type": "markdown",
   "id": "e6faaeff-aa41-4479-a555-259d11940481",
   "metadata": {},
   "source": [
    "4. When processing data it is often useful to remove the last character from some\n",
    "input (it is often a newline). Write and test a function that takes a string parameter\n",
    "and returns it with the last character removed. (If the string contains one or fewer\n",
    "characters, return it unchanged.)"
   ]
  },
  {
   "cell_type": "code",
   "execution_count": 16,
   "id": "e2b18f6e-065c-4d89-a945-2cf6f6a57777",
   "metadata": {},
   "outputs": [
    {
     "name": "stdout",
     "output_type": "stream",
     "text": [
      "Original: 'Gyann', Modified: 'Gyan'\n",
      "Original: 'poonn', Modified: 'poon'\n",
      "Original: '', Modified: ''\n",
      "Original: 'codes', Modified: 'code'\n"
     ]
    }
   ],
   "source": [
    "def remove_last_text(s):\n",
    "    if len(s) > 1:\n",
    "        return s[:-1]\n",
    "    return s \n",
    "test_strings = [\"Gyann\", \"poonn\", \"\", \"codes\"]\n",
    "\n",
    "for string in test_strings:\n",
    "    result = remove_last_text(string)\n",
    "    print(f\"Original: '{string}', Modified: '{result}'\")\n"
   ]
  },
  {
   "cell_type": "markdown",
   "id": "b8c5fdb1-1e2e-4d2a-ae9f-c60a968d96f4",
   "metadata": {},
   "source": [
    "5. Write and test a function that converts a temperature measured in degrees\n",
    "centigrade into the equivalent in fahrenheit, and another that does the reverse\n",
    "conversion. Test both functions. (Google will find you the formulae)."
   ]
  },
  {
   "cell_type": "code",
   "execution_count": 62,
   "id": "efea2d89-14d1-41fd-b1df-2b521dae05b2",
   "metadata": {},
   "outputs": [
    {
     "name": "stdout",
     "output_type": "stream",
     "text": [
      "Celsius to Fahrenheit:\n",
      "22C is equivalent to 71.60F.\n",
      "33C is equivalent to 91.40F.\n",
      "44C is equivalent to 111.20F.\n",
      "55C is equivalent to 131.00F.\n",
      "\n",
      " Fahrenheit to Celsius:\n",
      "43F is equivalent to 6.11C.\n",
      "53F is equivalent to 11.67C.\n",
      "63F is equivalent to 17.22C.\n",
      "73F is equivalent to 22.78C.\n"
     ]
    }
   ],
   "source": [
    "def celsius_to_fahrenheit(celsius):\n",
    "    return (celsius * 9/5) + 32\n",
    "def fahrenheit_to_celsius(fahrenheit):\n",
    "    return (fahrenheit - 32) * 5/9\n",
    "test_celsius = [22, 33, 44, 55]\n",
    "test_fahrenheit = [43, 53, 63, 73]\n",
    "\n",
    "print(\"Celsius to Fahrenheit:\")\n",
    "for temp in test_celsius:\n",
    "    print(f\"{temp}C is equivalent to {celsius_to_fahrenheit(temp):.2f}F.\")\n",
    "    \n",
    "print(\"\\n Fahrenheit to Celsius:\")\n",
    "for temp in test_fahrenheit:\n",
    "    print(f\"{temp}F is equivalent to {fahrenheit_to_celsius(temp):.2f}C.\")\n"
   ]
  },
  {
   "cell_type": "markdown",
   "id": "a8c62301-b26c-4b54-8346-c2f6a815d32d",
   "metadata": {},
   "source": [
    "6. Write a program that takes a centigrade temperature and displays the equivalent in\n",
    "fahrenheit. The input should be a number followed by a letter C. The output should\n",
    "be in the same format."
   ]
  },
  {
   "cell_type": "code",
   "execution_count": 64,
   "id": "79478e5d",
   "metadata": {},
   "outputs": [
    {
     "name": "stdout",
     "output_type": "stream",
     "text": [
      "Enter temperature in celsius ending with C:  34C\n",
      "Enter temperature in celsius ending with C:  43C\n",
      "Enter temperature in celsius ending with C:  65C\n",
      "Enter temperature in celsius ending with C:  76C\n"
     ]
    },
    {
     "name": "stdout",
     "output_type": "stream",
     "text": [
      "[34, 43, 65, 76]\n",
      "93.2\n",
      "109.4\n",
      "149.0\n",
      "168.8\n"
     ]
    }
   ],
   "source": [
    "def celsius_to_fahrenheit(celsius):\n",
    "    return (celsius * 9/5) + 32\n",
    "def fahrenheit_to_celsius(fahrenheit):\n",
    "    return (fahrenheit - 32) * 5/9\n",
    "test_celsius = [22, 33, 44, 55]\n",
    "test_fahrenheit = [43, 53, 63, 73]\n",
    "\n",
    "input_celsius = []\n",
    "integer_celsius = []\n",
    "\n",
    "for i in range(4):\n",
    "    celsius = input(\"Enter temperature in celsius ending with C: \")\n",
    "    input_celsius.append(celsius)\n",
    "\n",
    "for i in input_celsius:\n",
    "\n",
    "    integer_celsius.append(int(i[:-1]))\n",
    "\n",
    "print(integer_celsius)    \n",
    "\n",
    "for i in integer_celsius:\n",
    "    print(celsius_to_fahrenheit(i))"
   ]
  },
  {
   "cell_type": "markdown",
   "id": "5ce6b654",
   "metadata": {},
   "source": [
    "7. Write a program that reads 6 temperatures (in the same format as before), and\n",
    "displays the maximum, minimum, and mean of the values.\n",
    "Hint: You should know there are built-in functions for max and min. If you hunt, you\n",
    "might also find one for the mean."
   ]
  },
  {
   "cell_type": "code",
   "execution_count": 76,
   "id": "2cab7e15-7e17-4faf-bb95-4299633bae4b",
   "metadata": {},
   "outputs": [
    {
     "name": "stdout",
     "output_type": "stream",
     "text": [
      "Enter the temperature ending with C: 22C\n",
      "Enter the temperature ending with C: 33C\n",
      "Enter the temperature ending with C: 44C\n",
      "Enter the temperature ending with C: 55C\n",
      "Enter the temperature ending with C: 66C\n",
      "Enter the temperature ending with C: 77C\n"
     ]
    },
    {
     "name": "stdout",
     "output_type": "stream",
     "text": [
      "77.0\n",
      "22.0\n",
      "49.5\n"
     ]
    }
   ],
   "source": [
    "temp=[]\n",
    "int_temp = []\n",
    "for i in range (6):\n",
    "    t = input(\"Enter the temperature ending with C:\")\n",
    "    temp.append(t)\n",
    "for i in temp:\n",
    "    int_temp.append(float(i[:-1]))\n",
    "\n",
    "def maximum(temp_arr):\n",
    "    max_temp = temp_arr[0]\n",
    "    for i in range(1, len(temp_arr)):\n",
    "        if temp_arr[i]> max_temp:\n",
    "            max_temp = temp_arr[i]\n",
    "    return max_temp\n",
    "\n",
    "print(maximum(int_temp))\n",
    "def minimum(temp_arr):\n",
    "    min_temp = temp_arr[0]\n",
    "    for i in range(1, len(temp_arr)):\n",
    "        if temp_arr[i]< min_temp:\n",
    "            min_temp = temp_arr[i]\n",
    "    return min_temp\n",
    "\n",
    "print(minimum(int_temp))\n",
    "\n",
    "def mean(temp_arr):\n",
    "         return sum(temp_arr) / len(temp_arr)\n",
    "\n",
    "print(mean(int_temp))"
   ]
  },
  {
   "cell_type": "markdown",
   "id": "ea7f50cc-3075-44b9-85c9-18dd9d15e4d5",
   "metadata": {},
   "source": [
    "8. Modify the previous program so that it can process any number of values. The input\n",
    "terminates when the user just pressed \"Enter\" at the prompt rather than entering a\n",
    "value."
   ]
  },
  {
   "cell_type": "code",
   "execution_count": 1,
   "id": "42c4566b-ef3e-448d-8b7c-df0b25012683",
   "metadata": {},
   "outputs": [
    {
     "name": "stdout",
     "output_type": "stream",
     "text": [
      "Enter the temperature ending with C(Press Enter to stop):\n"
     ]
    },
    {
     "name": "stdin",
     "output_type": "stream",
     "text": [
      " \n"
     ]
    },
    {
     "name": "stdout",
     "output_type": "stream",
     "text": [
      "Please enter a temperature\n"
     ]
    },
    {
     "name": "stdout",
     "output_type": "stream",
     "text": [
      "Please enter a temperature\n"
     ]
    }
   ],
   "source": [
    "temp = []\n",
    "int_temp = []\n",
    "print(\"Enter the temperature ending with C(Press Enter to stop):\")\n",
    "while True:\n",
    "    t = input()\n",
    "    if t == \"\":\n",
    "        break\n",
    "    temp.append(t)\n",
    "\n",
    "for i in temp:\n",
    "    int_temp.append(float(i[:-1]))\n",
    "\n",
    "def maximum(temp_arr):\n",
    "    max_temp = temp_arr[0]\n",
    "    for i in range(1, len(temp_arr)):\n",
    "        if temp_arr[i] > max_temp:\n",
    "            max_temp = temp_arr[i]\n",
    "    return max_temp\n",
    "\n",
    "def minimum(temp_arr):\n",
    "    min_temp = temp_arr[0]\n",
    "    for i in range(1, len(temp_arr)):\n",
    "        if temp_arr[i] < min_temp:\n",
    "            min_temp = temp_arr[i]\n",
    "    return min_temp\n",
    "\n",
    "def mean(temp_arr):\n",
    "    return sum(temp_arr) / len(temp_arr)\n",
    "\n",
    "if int_temp:\n",
    "    max_temp = maximum(int_temp)\n",
    "    min_temp = minimum(int_temp)\n",
    "    mean_temp = mean(int_temp)\n",
    "\n",
    "    print(f\"Maximum temperature: {max_temp}\")\n",
    "    print(f\"Minimum temperature: {min_temp}\")\n",
    "    print(f\"Mean temperature: {mean_temp:.2f}\")\n",
    "else:\n",
    "    print(\"Please enter a temperature\")"
   ]
  }
 ],
 "metadata": {
  "kernelspec": {
   "display_name": "Python [conda env:base] *",
   "language": "python",
   "name": "conda-base-py"
  },
  "language_info": {
   "codemirror_mode": {
    "name": "ipython",
    "version": 3
   },
   "file_extension": ".py",
   "mimetype": "text/x-python",
   "name": "python",
   "nbconvert_exporter": "python",
   "pygments_lexer": "ipython3",
   "version": "3.12.7"
  }
 },
 "nbformat": 4,
 "nbformat_minor": 5
}
