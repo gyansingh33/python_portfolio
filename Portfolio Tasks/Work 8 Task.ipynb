{
 "cells": [
  {
   "cell_type": "markdown",
   "id": "9c840370-2181-4e37-b0bc-96f14e2c513d",
   "metadata": {},
   "source": [
    "1. The Unix nl command prints the lines of a text file with a line number at the start\n",
    "of each line. (It can be useful when printing out programs for dry runs or white-box\n",
    "testing). Write an implementation of this command. It should take the name of the\n",
    "files as a command-line argument."
   ]
  },
  {
   "cell_type": "code",
   "execution_count": 11,
   "id": "7cdbeca2-5adc-4c53-b78f-0758556c0033",
   "metadata": {},
   "outputs": [
    {
     "name": "stdout",
     "output_type": "stream",
     "text": [
      "Python nl.py <file_name>\n"
     ]
    }
   ],
   "source": [
    "import sys\n",
    "\n",
    "def n(file_name):\n",
    "    try:\n",
    "        with open(file_name, 'r') as file:\n",
    "            lines = file.readlines()\n",
    "            for idx, line in enumerate(lines, 1):\n",
    "                print(f\"{idx}\\t{line.strip()}\")\n",
    "    except FileNotFoundError:\n",
    "        print(f\"File {file_name} not found.\")\n",
    "    except Exception as a:\n",
    "        print(f\"Error occurred: {a}\")\n",
    "\n",
    "if __name__ == \"__main__\":\n",
    "    if len(sys.argv) != 2:\n",
    "        print(\"Python nl.py <file_name>\")\n",
    "    else:\n",
    "        n(sys.argv[1])"
   ]
  },
  {
   "cell_type": "markdown",
   "id": "297eb311-270e-4f01-b853-84e9f8455952",
   "metadata": {},
   "source": [
    "2. The Unix diff command compares two files and reports the differences, if any.\n",
    "Write a simple implementation of this that takes two file names as command-line\n",
    "arguments and reports whether or not the two files are the same. (Define \"same\" as\n",
    "having the same contents.)"
   ]
  },
  {
   "cell_type": "code",
   "execution_count": 17,
   "id": "3d63fda6-1c31-40a9-bde8-c20a827017c3",
   "metadata": {},
   "outputs": [
    {
     "name": "stdout",
     "output_type": "stream",
     "text": [
      "File not found: -f\n"
     ]
    }
   ],
   "source": [
    "import sys\n",
    "\n",
    "def diff(file1, file2):\n",
    "    try:\n",
    "        with open(file1, 'r') as f1, open(file2, 'r') as f2:\n",
    "            content1 = f1.readlines()\n",
    "            content2 = f2.readlines()\n",
    "            \n",
    "            if content1 == content2:\n",
    "                print(\"Files are the same.\")\n",
    "            else:\n",
    "                print(\"Files are different.\")\n",
    "    except FileNotFoundError as a:\n",
    "        print(f\"File not found: {a.filename}\")\n",
    "    except Exception as a:\n",
    "        print(f\"Error occurred: {a}\")\n",
    "\n",
    "if __name__ == \"__main__\":\n",
    "    if len(sys.argv) != 3:\n",
    "        print(\"Python diff.py <file1> <file2>\")\n",
    "    else:\n",
    "        diff(sys.argv[1], sys.argv[2])"
   ]
  },
  {
   "cell_type": "markdown",
   "id": "07303659-d914-41e0-93b1-cba10fde0fc2",
   "metadata": {},
   "source": [
    "3. The Unix grep command searches a file and outputs the lines in the file that\n",
    "contain a certain pattern. Write an implementation of this. It will take two\n",
    "command-line arguments: the first is the string to look for, and the second is the\n",
    "file name. The output should be the lines in the file that contain the string."
   ]
  },
  {
   "cell_type": "code",
   "execution_count": 46,
   "id": "d72859b2-1713-434d-ad58-e393be0c94e9",
   "metadata": {},
   "outputs": [],
   "source": [
    "import sys\n",
    "\n",
    "def grep(pattern, file_name):\n",
    "    try:\n",
    "        with open(file_name, 'r') as file:\n",
    "            lines = file.readlines()\n",
    "            for line in lines:\n",
    "                if pattern in line:\n",
    "                    print(line.strip())\n",
    "    except FileNotFoundError:\n",
    "        print(f\"File {file_name} not found.\")\n",
    "    except Exception as a:\n",
    "        print(f\"Error occurred: {a}\")\n",
    "\n",
    "if __name__ == \"__main__\":\n",
    "    if len(sys.argv) != 3:\n",
    "        print(\"Python grep.py <pattern> <file_name>\")\n",
    "    else:\n",
    "        grep(sys.argv[1], sys.argv[2])"
   ]
  },
  {
   "cell_type": "markdown",
   "id": "729dd5e7-dd15-4f3c-b547-cc9d65d4ecb9",
   "metadata": {},
   "source": [
    "4. The Unix wc command counts the number of lines, words, and characters in a file.\n",
    "Write an implementation of this that takes a file name as a command-line\n",
    "argument, and then prints the number of lines and characters.\n",
    "Note: Linux (and Mac) users can use the \"wc\" command to check the results of their\n",
    "implementation."
   ]
  },
  {
   "cell_type": "code",
   "execution_count": 33,
   "id": "e114006b-4765-4c82-b87e-e4ed28b26766",
   "metadata": {},
   "outputs": [
    {
     "name": "stdout",
     "output_type": "stream",
     "text": [
      "Python wc.py <file_name>\n"
     ]
    }
   ],
   "source": [
    "import sys\n",
    "\n",
    "def wc(file_name):\n",
    "    try:\n",
    "        with open(file_name, 'r') as file:\n",
    "            lines = file.readlines()\n",
    "            num_lines = len(lines)\n",
    "            num_chars = sum(len(line) for line in lines)\n",
    "            \n",
    "            print(f\"Lines: {num_lines}\")\n",
    "            print(f\"Characters: {num_chars}\")\n",
    "    except FileNotFoundError:\n",
    "        print(f\"File {file_name} not found.\")\n",
    "    except Exception as a:\n",
    "        print(f\"Error occurred: {a}\")\n",
    "\n",
    "if __name__ == \"__main__\":\n",
    "    if len(sys.argv) != 2:\n",
    "        print(\"Python wc.py <file_name>\")\n",
    "    else:\n",
    "        wc(sys.argv[1])\n"
   ]
  },
  {
   "cell_type": "markdown",
   "id": "3c7a0525-b172-413f-95cc-39784ac7b437",
   "metadata": {},
   "source": [
    "5. The Unix spell command is a simple spell-checker. It prints out all the words in a\n",
    "text file that are not found in a dictionary. Write and test an implementation of this,\n",
    "that takes a file name as a command-line argument.\n",
    "Note: You may want to simplify the program at first by testing with a text file that\n",
    "does not contain any punctuation. A complete version should obviously be able to\n",
    "handle normal files, with punctuation.\n",
    "Another Note: You will need a list of valid words. Linux users will already have one\n",
    "(probably in /usr/share/dict/words). It is more complicated, as usual, for\n",
    "Windows users. Happily, there are several available on GitHub."
   ]
  },
  {
   "cell_type": "code",
   "execution_count": 42,
   "id": "47748e48-ebcf-43fa-8d8d-930091672d0f",
   "metadata": {},
   "outputs": [
    {
     "name": "stdout",
     "output_type": "stream",
     "text": [
      "File -f not found.\n"
     ]
    }
   ],
   "source": [
    "import sys\n",
    "import re\n",
    "\n",
    "def load_dictionary(dict_file):\n",
    "    with open(dict_file, 'r') as file:\n",
    "        valid_words = set(word.strip().lower() for word in file)\n",
    "    return valid_words\n",
    "\n",
    "def spell_check(file_name, dict_file):\n",
    "    valid_words = load_dictionary(dict_file)\n",
    "    \n",
    "    try:\n",
    "        with open(file_name, 'r') as file:\n",
    "            for line in file:\n",
    "                words = re.findall(r'\\b\\w+\\b', line.lower())\n",
    "                for word in words:\n",
    "                    if word not in valid_words:\n",
    "                        print(word)\n",
    "    except FileNotFoundError:\n",
    "        print(f\"File {file_name} not found.\")\n",
    "    except Exception as a:\n",
    "        print(f\"Error occurred: {a}\")\n",
    "\n",
    "if __name__ == \"__main__\":\n",
    "    if len(sys.argv) != 3:\n",
    "        print(\"Python spell.py <file_name> <dict_file>\")\n",
    "    else:\n",
    "        spell_check(sys.argv[1], sys.argv[2])"
   ]
  }
 ],
 "metadata": {
  "kernelspec": {
   "display_name": "Python [conda env:base] *",
   "language": "python",
   "name": "conda-base-py"
  },
  "language_info": {
   "codemirror_mode": {
    "name": "ipython",
    "version": 3
   },
   "file_extension": ".py",
   "mimetype": "text/x-python",
   "name": "python",
   "nbconvert_exporter": "python",
   "pygments_lexer": "ipython3",
   "version": "3.12.7"
  }
 },
 "nbformat": 4,
 "nbformat_minor": 5
}
