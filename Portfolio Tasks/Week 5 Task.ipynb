{
 "cells": [
  {
   "cell_type": "markdown",
   "id": "5eec8576-b90d-40a2-bf09-12aecb4d897e",
   "metadata": {},
   "source": [
    "1. Using command-line arguments involves the sys module. Review the docs for this\n",
    "module and using the information in there write a short program that when run\n",
    "from the command-line reports what operating system platform is being used."
   ]
  },
  {
   "cell_type": "code",
   "execution_count": 10,
   "id": "9863ef63-67c7-4e43-b1d6-e86337d10ac5",
   "metadata": {},
   "outputs": [
    {
     "name": "stdout",
     "output_type": "stream",
     "text": [
      "The Operating System Platform being used is: Windows\n"
     ]
    }
   ],
   "source": [
    "import sys\n",
    "import platform\n",
    "os_platform = platform.system() \n",
    "print(f\"The Operating System Platform being used is: {os_platform}\")"
   ]
  },
  {
   "cell_type": "markdown",
   "id": "f108509e-a5c9-4184-ba27-c7b91e9c8f32",
   "metadata": {},
   "source": [
    "2. Write a program that, when run from the command line, reports how many\n",
    "arguments were provided. (Remember that the program name itself is not an\n",
    "argument)."
   ]
  },
  {
   "cell_type": "code",
   "execution_count": 16,
   "id": "b692cda4-0a2e-4efe-81bb-b2639a749df5",
   "metadata": {},
   "outputs": [
    {
     "name": "stdout",
     "output_type": "stream",
     "text": [
      "Number of Arguments were provided: 2\n"
     ]
    }
   ],
   "source": [
    "import sys\n",
    "args = sys.argv[1:]\n",
    "num_args = len(args)\n",
    "print(f\"Number of Arguments were provided: {num_args}\")"
   ]
  },
  {
   "cell_type": "markdown",
   "id": "fa4792ec-af4b-444f-9082-9821d2d2876b",
   "metadata": {},
   "source": [
    "3. Write a program that takes a bunch of command-line arguments, and then prints\n",
    "out the shortest. If there is more than one of the shortest length, any will do.\n",
    "Hint: Don't overthink this. A good way to find the shortest is just to sort them."
   ]
  },
  {
   "cell_type": "code",
   "execution_count": 18,
   "id": "c7c7262f-76fc-44ec-b1cf-298507ad1885",
   "metadata": {},
   "outputs": [
    {
     "name": "stdout",
     "output_type": "stream",
     "text": [
      "The Shortest Argument is: '-f'\n"
     ]
    }
   ],
   "source": [
    "import sys\n",
    "args = sys.argv[1:]\n",
    "\n",
    "if args:\n",
    "    sorted_args = sorted(args, key=len)\n",
    "    shortest_arg = sorted_args[0]\n",
    "    print(f\"The Shortest Argument is: '{shortest_arg}'\")\n",
    "else:\n",
    "    print(\"No Arguments were provided.\")"
   ]
  },
  {
   "cell_type": "markdown",
   "id": "3429d7b4-2e50-4d53-b37c-5fab222cd169",
   "metadata": {},
   "source": [
    "4. Write a program that takes a URL as a command-line argument and reports\n",
    "whether or not there is a working website at that address.\n",
    "Hint: You need to get the HTTP response code.\n",
    "Another Hint: StackOverflow is your friend."
   ]
  },
  {
   "cell_type": "code",
   "execution_count": 25,
   "id": "4137cf59-c681-459c-8bd9-e559dcf0e52c",
   "metadata": {},
   "outputs": [
    {
     "name": "stdout",
     "output_type": "stream",
     "text": [
      "Python check_website.py <URL>\n"
     ]
    }
   ],
   "source": [
    "import sys\n",
    "import requests\n",
    "\n",
    "def check_website(url):\n",
    "    try:\n",
    "        response = requests.get(url)\n",
    "        if response.status_code == 200:\n",
    "            print(f\"The Website at {url} is working.\")\n",
    "        else:\n",
    "            print(f\"The Website at {url} returned status code: {response.status_code}\")\n",
    "    except requests.exceptions.RequestException as n:\n",
    "        print(f\"Error checking the website: {n}\")\n",
    "\n",
    "if __name__ == \"__main__\":\n",
    "    if len(sys.argv) != 2:\n",
    "        print(\"Python check_website.py <URL>\")\n",
    "    else:\n",
    "        check_website(sys.argv[1])\n"
   ]
  },
  {
   "cell_type": "markdown",
   "id": "1cb60db0-fe6f-4881-95dd-5a4a2fe2f840",
   "metadata": {},
   "source": [
    "5. Last week you wrote a program that processed a collection of temperature readings\n",
    "entered by the user and displayed the maximum, minimum, and mean. Create a\n",
    "version of that program that takes the values from the command-line instead. Be\n",
    "sure to handle the case where no arguments are provided!"
   ]
  },
  {
   "cell_type": "code",
   "execution_count": 11,
   "id": "8b1946d2-7d80-4390-b98a-a63b5b17583b",
   "metadata": {},
   "outputs": [
    {
     "name": "stdout",
     "output_type": "stream",
     "text": [
      "Error: No arguments are provided.\n"
     ]
    }
   ],
   "source": [
    "import sys\n",
    "\n",
    "def process_temperatures(args):\n",
    "    if not args:\n",
    "        print(\"No temperature are provided. Please Enter a values as command-line arguments.\")\n",
    "        return\n",
    "\n",
    "    if not all(arg.replace('.', '', 1).isdigit() or (arg.startswith('-') and arg[1:].replace('.', '', 1).isdigit()) for arg in args):\n",
    "        print(\"Error: No arguments are provided.\")\n",
    "        return\n",
    "\n",
    "    temperatures = [float(arg) for arg in args]\n",
    "\n",
    "    max_temp = max(temperatures)\n",
    "    min_temp = min(temperatures)\n",
    "    mean_temp = sum(temperatures) / len(temperatures)\n",
    "\n",
    "    print(f\"Maximum Temperature: {max_temp}\")\n",
    "    print(f\"Minimum Temperature: {min_temp}\")\n",
    "    print(f\"Mean Temperature: {mean_temp:.2f}\")\n",
    "\n",
    "if __name__ == \"__main__\":\n",
    "    if len(sys.argv) < 2:\n",
    "        print(\"No temperature are provided. Python script_name.py <temp1> <temp2> ...\")\n",
    "    else:\n",
    "        process_temperatures(sys.argv[1:])\n"
   ]
  },
  {
   "cell_type": "markdown",
   "id": "3f6379c0-808d-4eeb-9c5f-949f59437d32",
   "metadata": {},
   "source": [
    "6. Write a program that takes the name of a file as a command-line argument, and\n",
    "creates a backup copy of that file. The backup should contain an exact copy of the\n",
    "contents of the original and should, obviously, have a different name.\n",
    "Hint: By now, you should be getting the idea that there is a built-in way to do the\n",
    "heavy lifting here! Take a look at the \"Brief Tour of the Standard Library\" in the docs."
   ]
  },
  {
   "cell_type": "code",
   "execution_count": 30,
   "id": "55e803c3-06a2-4afb-ae03-4b529ccf5088",
   "metadata": {},
   "outputs": [
    {
     "name": "stdout",
     "output_type": "stream",
     "text": [
      "Python create_backup.py <file_name>\n"
     ]
    }
   ],
   "source": [
    "import sys\n",
    "import shutil\n",
    "import os\n",
    "\n",
    "def create_backup(file_path):\n",
    "    if not os.path.isfile(file_path):\n",
    "        print(f\"The file {file_path} does not exist.\")\n",
    "        return\n",
    "    \n",
    "    backup_path = file_path + \".backup\"\n",
    "    shutil.copy2(file_path, backup_path)\n",
    "    print(f\"Backup created: {backup_path}\")\n",
    "\n",
    "if __name__ == \"__main__\":\n",
    "    if len(sys.argv) != 2:\n",
    "        print(\"Python create_backup.py <file_name>\")\n",
    "    else:\n",
    "        create_backup(sys.argv[1])\n"
   ]
  }
 ],
 "metadata": {
  "kernelspec": {
   "display_name": "Python [conda env:base] *",
   "language": "python",
   "name": "conda-base-py"
  },
  "language_info": {
   "codemirror_mode": {
    "name": "ipython",
    "version": 3
   },
   "file_extension": ".py",
   "mimetype": "text/x-python",
   "name": "python",
   "nbconvert_exporter": "python",
   "pygments_lexer": "ipython3",
   "version": "3.12.7"
  }
 },
 "nbformat": 4,
 "nbformat_minor": 5
}
