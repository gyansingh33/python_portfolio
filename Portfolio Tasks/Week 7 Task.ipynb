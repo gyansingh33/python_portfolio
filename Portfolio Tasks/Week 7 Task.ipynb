{
 "cells": [
  {
   "cell_type": "markdown",
   "id": "a191581e-bc9d-429e-958c-aac5d3a79d10",
   "metadata": {},
   "source": [
    "1. Write and test a function that takes a string as a parameter and returns a sorted list\n",
    "of all the unique letters used in the string. So, if the string is cheese, the list\n",
    "returned should be ['c', 'e', 'h', 's']."
   ]
  },
  {
   "cell_type": "code",
   "execution_count": 9,
   "id": "b782ae99-fe2c-487a-9b94-1c309bfebe93",
   "metadata": {},
   "outputs": [
    {
     "name": "stdout",
     "output_type": "stream",
     "text": [
      "['c', 'e', 'h', 's']\n"
     ]
    }
   ],
   "source": [
    "def unique_letters(a):\n",
    "    return sorted(set(a))\n",
    "print(unique_letters(\"cheese\"))"
   ]
  },
  {
   "cell_type": "markdown",
   "id": "0ad5706f-9a93-49c8-bc06-dec6420fced8",
   "metadata": {},
   "source": [
    "2. Write and test three functions that each take two words (strings) as parameters and\n",
    "return sorted lists (as defined above) representing respectively:\n",
    "Letters that appear in at least one of the two words.\n",
    "Letters that appear in both words.\n",
    "Letters that appear in either word, but not in both.\n",
    "Hint: These could all be done programmatically, but consider carefully what topic we\n",
    "have been discussing this week! Each function can be exactly one line."
   ]
  },
  {
   "cell_type": "code",
   "execution_count": 14,
   "id": "87272510-0002-45ae-af24-baf90afb81da",
   "metadata": {},
   "outputs": [
    {
     "name": "stdout",
     "output_type": "stream",
     "text": [
      "['a', 'c', 'e', 'h', 'm', 's']\n",
      "['h']\n",
      "['a', 'c', 'e', 'm', 's']\n"
     ]
    }
   ],
   "source": [
    "def unique_letters(word1, word2):\n",
    "    return sorted(set(word1) | set(word2))\n",
    "\n",
    "def common_letters(word1, word2):\n",
    "    return sorted(set(word1) & set(word2))\n",
    "\n",
    "def unique_to_each(word1, word2):\n",
    "    return sorted(set(word1) ^ set(word2))\n",
    "\n",
    "print(unique_letters(\"cheese\", \"ham\"))\n",
    "print(common_letters(\"cheese\", \"ham\"))\n",
    "print(unique_to_each(\"cheese\", \"ham\"))  "
   ]
  },
  {
   "cell_type": "markdown",
   "id": "9e1c46f5-efa6-4fc4-a435-4cd2016125ef",
   "metadata": {},
   "source": [
    "3. Write a program that manages a list of countries and their capital cities. It should\n",
    "prompt the user to enter the name of a country. If the program already \"knows\"\n",
    "the name of the capital city, it should display it. Otherwise it should ask the user to\n",
    "enter it. This should carry on until the user terminates the program (how this\n",
    "happens is up to you).\n",
    "Note: A good solution to this task will be able to cope with the country being entered\n",
    "variously as, for example, \"Wales\", \"wales\", \"WALES\" and so on."
   ]
  },
  {
   "cell_type": "code",
   "execution_count": 25,
   "id": "7d6acb5e-8b98-4b12-a027-371dfa294c5b",
   "metadata": {},
   "outputs": [
    {
     "name": "stdin",
     "output_type": "stream",
     "text": [
      "Enter the name of a country or 'Exit' to terminate:  Nepal\n",
      "Please enter the capital of Nepal:  Kathmandu\n"
     ]
    },
    {
     "name": "stdout",
     "output_type": "stream",
     "text": [
      "The capital of Nepal is recorded as Kathmandu.\n"
     ]
    },
    {
     "name": "stdin",
     "output_type": "stream",
     "text": [
      "Enter the name of a country or 'Exit' to terminate:  Exit\n"
     ]
    }
   ],
   "source": [
    "def manage_capitals():\n",
    "    capitals = {}\n",
    "    while True:\n",
    "        country = input(\"Enter the name of a country or 'Exit' to terminate: \")\n",
    "        if country == 'Exit':\n",
    "            break\n",
    "        if country in capitals:\n",
    "            print(f\"The capital of {country.title()} is {capitals[country]}\")\n",
    "        else:\n",
    "            capital = input(f\"Please enter the capital of {country.title()}: \").strip()\n",
    "            capitals[country] = capital\n",
    "            print(f\"The capital of {country.title()} is recorded as {capital}.\")\n",
    "\n",
    "if __name__ == \"__main__\":\n",
    "    manage_capitals()"
   ]
  },
  {
   "cell_type": "markdown",
   "id": "074968d0-2f29-4e78-bef5-d04744e31171",
   "metadata": {},
   "source": [
    "4. One approach to analysing some encrypted data where a substitution is suspected\n",
    "is frequency analysis. A count of the different symbols in the message can be used\n",
    "to identify the language used, and sometimes some of the letters. In English, the\n",
    "most common letter is \"e\", and so the symbol representing \"e\" should appear most\n",
    "in the encrypted text.\n",
    "Write a program that processes a string representing a message and reports the six\n",
    "most common letters, along with the number of times they appear. Case should\n",
    "not matter, so \"E\" and \"e\" are considered the same.\n",
    "Hint: There are many ways to do this. It is obviously a dictionary, but we will want\n",
    "zero counts, so some initialisation is needed. Also, sorting dictionaries is tricky, so\n",
    "best to ignore that initially, and then check the usual resources for the runes."
   ]
  },
  {
   "cell_type": "code",
   "execution_count": 30,
   "id": "1f2b628f-8e56-4b6e-8de9-39d0d280b52e",
   "metadata": {},
   "outputs": [
    {
     "name": "stdin",
     "output_type": "stream",
     "text": [
      "Enter the encrypted message:  English\n"
     ]
    },
    {
     "name": "stdout",
     "output_type": "stream",
     "text": [
      "'e': 1\n",
      "'n': 1\n",
      "'g': 1\n",
      "'l': 1\n",
      "'i': 1\n",
      "'s': 1\n"
     ]
    }
   ],
   "source": [
    "import collections\n",
    "\n",
    "def frequency(message):\n",
    "    message = ''.join(filter(str.isalpha, message.lower()))\n",
    "    letter_counts = collections.Counter(message)\n",
    "    most_common_letters = letter_counts.most_common(6)\n",
    "    for letter, count in most_common_letters:\n",
    "        print(f\"'{letter}': {count}\")\n",
    "\n",
    "if __name__ == \"__main__\":\n",
    "    message = input(\"Enter the encrypted message: \")\n",
    "    frequency(message)"
   ]
  }
 ],
 "metadata": {
  "kernelspec": {
   "display_name": "Python [conda env:base] *",
   "language": "python",
   "name": "conda-base-py"
  },
  "language_info": {
   "codemirror_mode": {
    "name": "ipython",
    "version": 3
   },
   "file_extension": ".py",
   "mimetype": "text/x-python",
   "name": "python",
   "nbconvert_exporter": "python",
   "pygments_lexer": "ipython3",
   "version": "3.12.7"
  }
 },
 "nbformat": 4,
 "nbformat_minor": 5
}
