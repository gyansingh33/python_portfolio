{
 "cells": [
  {
   "cell_type": "markdown",
   "id": "5cc8fe90-25b6-4a03-a5e5-25a31b81e913",
   "metadata": {},
   "source": [
    "1. Last week you wrote a program that printed out a cheery greeting including your\n",
    "name. Take a copy of it, and modify it so that the user enters their name at the\n",
    "keyboard, and then receives a greeting. F\n",
    "or example:\n",
    "Hello, what is your name? Mr Apricot\n",
    "Hello, Mr Apricot. Good to meet you!"
   ]
  },
  {
   "cell_type": "code",
   "execution_count": 13,
   "id": "42b017fe-7426-44cc-8e43-46ab000285fc",
   "metadata": {},
   "outputs": [
    {
     "name": "stdin",
     "output_type": "stream",
     "text": [
      "Hello, what is your name?: Gyan Singh Pun\n"
     ]
    },
    {
     "name": "stdout",
     "output_type": "stream",
     "text": [
      "Hello, Mr. Gyan Singh Pun. Good to meet you!\n"
     ]
    }
   ],
   "source": [
    "name = input(\"Hello, what is your name?:\")\n",
    "print(f\"Hello, Mr. {name}. Good to meet you!\")"
   ]
  },
  {
   "cell_type": "markdown",
   "id": "0978056e-8f01-48b7-94c2-88d8c901163a",
   "metadata": {},
   "source": [
    "2.Write a program that prompts a user to enter a temperature in Celsius, and then\n",
    "displays the corresponding temperature in Fahrenheit, like so:\n",
    "Enter a temperature in Celsius: 32.5\n",
    "32.5C is equivalent to 90.5F."
   ]
  },
  {
   "cell_type": "code",
   "execution_count": 20,
   "id": "db9ea119-5395-4af3-bb08-4c1f011fdd30",
   "metadata": {},
   "outputs": [
    {
     "name": "stdin",
     "output_type": "stream",
     "text": [
      "Enter a temperature in Celsius: 32.5\n"
     ]
    },
    {
     "name": "stdout",
     "output_type": "stream",
     "text": [
      "32.5C is equivalent to 90.5F.\n"
     ]
    }
   ],
   "source": [
    "celsius = float(input(\"Enter a temperature in Celsius:\"))\n",
    "fahrenheit = (celsius*9/5)+32\n",
    "print(f\"{celsius}C is equivalent to {fahrenheit}F.\")"
   ]
  },
  {
   "cell_type": "markdown",
   "id": "d73db6a3-5f00-46c5-8ce8-133940243887",
   "metadata": {},
   "source": [
    "3.The Head of Computing at the University of Poppleton is tasked with dividing a\n",
    "group of students into lab groups. A lab group is usually 24 students, but this is\n",
    "sometimes varied to create groups of similar size. Write a program that prompts for\n",
    "the number of students and group size, and then displays how many groups will be\n",
    "needed and how many will be left over in a smaller group.\n",
    "How many students? 113\n",
    "Required group size? 22\n",
    "There will be 5 groups with 3 students left over.\n",
    "For bonus credit, see if you can fix the grammar in the output. So if there were 101\n",
    "students in groups of 20 the output would be:\n",
    "There will be 5 groups with 1 student left over."
   ]
  },
  {
   "cell_type": "code",
   "execution_count": 27,
   "id": "e8c3e79b-0190-4df6-b9f3-305bede1653d",
   "metadata": {},
   "outputs": [
    {
     "name": "stdin",
     "output_type": "stream",
     "text": [
      "How many students?:  24\n",
      "Required group size?:  113\n"
     ]
    },
    {
     "name": "stdout",
     "output_type": "stream",
     "text": [
      "There will be  0 group with 24 students left over.\n"
     ]
    }
   ],
   "source": [
    "students = int(input(\"How many students?: \"))\n",
    "group_size = int(input(\"Required group size?: \"))\n",
    "\n",
    "num_groups = students // group_size\n",
    "left_over = students % group_size\n",
    "\n",
    "group_plural = \"groups\" if num_groups > 1 else \"group\"\n",
    "student_plural = \"students\" if left_over >= 1 else \"student\"\n",
    "\n",
    "print(\"There will be \",num_groups, group_plural, \"with\" ,left_over, student_plural ,\"left over.\")\n"
   ]
  },
  {
   "cell_type": "markdown",
   "id": "8910063a-d09e-4945-a106-e22fde00f1fb",
   "metadata": {},
   "source": [
    "4.first count the sweets and then divide them according to how many pupils attend\n",
    "that day. Write a program that will tell the teacher how many sweets to give to each\n",
    "pupil, and how many she will have left over."
   ]
  },
  {
   "cell_type": "code",
   "execution_count": 36,
   "id": "d25fc33a-dfd5-4423-a0b7-d90f191733af",
   "metadata": {},
   "outputs": [
    {
     "name": "stdin",
     "output_type": "stream",
     "text": [
      "Enter a total numbers of sweets: 23\n",
      "Enter a total numbers of pupils: 12\n"
     ]
    },
    {
     "name": "stdout",
     "output_type": "stream",
     "text": [
      "Each pupil attend: 1 sweets.\n",
      "She will be 11 sweets left over.\n"
     ]
    }
   ],
   "source": [
    "sweets = int(input(\"Enter a total numbers of sweets:\"))\n",
    "pupils = int(input(\"Enter a total numbers of pupils:\"))\n",
    "sweets_per_pupils = sweets//pupils\n",
    "left_over_sweets = sweets % pupils\n",
    "print(\"Each pupil attend:\",sweets_per_pupils,\"sweets.\")\n",
    "print(\"She will be\",left_over_sweets,\"sweets left over.\")\n"
   ]
  }
 ],
 "metadata": {
  "kernelspec": {
   "display_name": "Python [conda env:base] *",
   "language": "python",
   "name": "conda-base-py"
  },
  "language_info": {
   "codemirror_mode": {
    "name": "ipython",
    "version": 3
   },
   "file_extension": ".py",
   "mimetype": "text/x-python",
   "name": "python",
   "nbconvert_exporter": "python",
   "pygments_lexer": "ipython3",
   "version": "3.12.7"
  }
 },
 "nbformat": 4,
 "nbformat_minor": 5
}
