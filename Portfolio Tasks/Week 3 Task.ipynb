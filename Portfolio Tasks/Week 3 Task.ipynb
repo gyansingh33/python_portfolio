{
 "cells": [
  {
   "cell_type": "markdown",
   "id": "ed1b0f76-6c8a-46ad-85f9-5a7df5574a04",
   "metadata": {},
   "source": [
    "1. Modify your greeting program so that if the user does not enter a name (i.e. they\n",
    "just press enter), the program responds \"Hello, Stranger!\". Otherwise it should print\n",
    "a greeting with their name as before."
   ]
  },
  {
   "cell_type": "code",
   "execution_count": 14,
   "id": "3296abfa-a18e-4aae-ade7-09de7b9f154c",
   "metadata": {},
   "outputs": [
    {
     "name": "stdin",
     "output_type": "stream",
     "text": [
      "Enter a name: gyan singh poon\n"
     ]
    },
    {
     "name": "stdout",
     "output_type": "stream",
     "text": [
      "gyan singh poon\n"
     ]
    }
   ],
   "source": [
    "name = input(\"Enter a name:\")\n",
    "if name:\n",
    "    print(name)\n",
    "else:\n",
    "    print(\"Hello, Stranger!\")"
   ]
  },
  {
   "cell_type": "markdown",
   "id": "bb027223-4b82-4dd2-b416-892dc8c14c5a",
   "metadata": {},
   "source": [
    "2. Write a program that simulates the way in which a user might choose a password.\n",
    "The program should prompt for a new password, and then prompt again. If the two\n",
    "passwords entered are the same the program should say \"Password Set\" or\n",
    "similar, otherwise it should report an error."
   ]
  },
  {
   "cell_type": "code",
   "execution_count": 12,
   "id": "a936b52f-c93f-4590-9593-5f7d44df8dc3",
   "metadata": {},
   "outputs": [
    {
     "name": "stdin",
     "output_type": "stream",
     "text": [
      "Enter a new password: gyan\n",
      "Re-enter a password: gyan\n"
     ]
    },
    {
     "name": "stdout",
     "output_type": "stream",
     "text": [
      "Password Set\n"
     ]
    }
   ],
   "source": [
    "pass1 = input(\"Enter a new password:\")\n",
    "pass2 = input(\"Re-enter a password:\")\n",
    "if pass1==pass2:\n",
    "    print(\"Password Set\")\n",
    "else:\n",
    "    print(\"Error\")"
   ]
  },
  {
   "cell_type": "markdown",
   "id": "4b24fc54-247e-4765-8a34-c7336cbc93be",
   "metadata": {},
   "source": [
    "3. Modify your previous program so that the password must be between 8 and 12\n",
    "characters (inclusive) long."
   ]
  },
  {
   "cell_type": "code",
   "execution_count": 4,
   "id": "15ac62a7-fce5-47c1-a224-3843f6527a0e",
   "metadata": {},
   "outputs": [
    {
     "name": "stdin",
     "output_type": "stream",
     "text": [
      "Enter a new password(8 to 12 characters): gyanp00n\n",
      "Re-enter a password: gyanpoon\n"
     ]
    },
    {
     "name": "stdout",
     "output_type": "stream",
     "text": [
      "Error\n"
     ]
    }
   ],
   "source": [
    "pass1 = input(\"Enter a new password(8 to 12 characters):\")\n",
    "if 8<=len(pass1)<=12:\n",
    "     pass2 = input(\"Re-enter a password:\")\n",
    "     if pass1==pass2:\n",
    "         print(\"Password set\")\n",
    "     else:\n",
    "         print(\"Error\")\n",
    "else:\n",
    "     print(\"Sorry please enter a (8 to 12)characters\")"
   ]
  },
  {
   "cell_type": "markdown",
   "id": "6774bda3-8ba5-402b-865b-a5f6e77c2b0f",
   "metadata": {},
   "source": [
    "4. Modify your program again so that the chosen password cannot be one of a list of\n",
    "common passwords, defined thus:\n",
    "BAD_PASSWORDS = ['password', 'letmein', 'sesame', 'hello', 'justinbieber']"
   ]
  },
  {
   "cell_type": "code",
   "execution_count": 17,
   "id": "22da2ebc-6889-4683-840c-f3c6210e78d3",
   "metadata": {},
   "outputs": [
    {
     "name": "stdin",
     "output_type": "stream",
     "text": [
      "Enter a new password (8-12 characters and not a common password):  gyanpoon\n",
      "Re-enter a password:  gyanpoon\n"
     ]
    },
    {
     "name": "stdout",
     "output_type": "stream",
     "text": [
      "Password Set\n"
     ]
    }
   ],
   "source": [
    "BAD_PASSWORDS = ['password', 'letmein', 'sesame', 'hello', 'justinbieber']\n",
    "pass1 = input(\"Enter a new password (8-12 characters and not a common password): \")\n",
    "\n",
    "if 8 <= len(pass1) <= 12 and pass1 not in BAD_PASSWORDS:\n",
    "    pass2 = input(\"Re-enter a password: \")\n",
    "    if pass1 == pass2:\n",
    "        print(\"Password Set\")\n",
    "    else:\n",
    "        print(\"Error\")\n",
    "else:\n",
    "    if pass1 in BAD_PASSWORDS:\n",
    "        print(\"Sorry it's too common. Choose a different password.\")\n",
    "    else:\n",
    "        print(\"Sorry password must be more than or between 8 and 12 characters.\")\n"
   ]
  },
  {
   "cell_type": "markdown",
   "id": "c0548ade-c70c-4c29-926e-cfe8747e1529",
   "metadata": {},
   "source": [
    "5. Modify your program a final time so that it executes until the user successfully\n",
    "chooses a password. That is, if the password chosen fails any of the checks, the\n",
    "program should return to asking for the password the first time."
   ]
  },
  {
   "cell_type": "code",
   "execution_count": 33,
   "id": "34dbd467-d1b0-4155-9664-0078bab6515f",
   "metadata": {},
   "outputs": [
    {
     "name": "stdin",
     "output_type": "stream",
     "text": [
      "Enter a new password (8-12 characters and not a common password):  gyanpoon\n",
      "Re-enter a password: gyanpoon\n"
     ]
    },
    {
     "name": "stdout",
     "output_type": "stream",
     "text": [
      "Password Set\n"
     ]
    }
   ],
   "source": [
    "BAD_PASSWORDS = ['password', 'letmein', 'sesame', 'hello', 'justinbieber']\n",
    "while True:\n",
    "    pass1 = input(\"Enter a new password (8-12 characters and not a common password): \")\n",
    "    if 8 <= len(pass1) <= 12 and pass1 not in BAD_PASSWORDS:\n",
    "        pass2 = input(\"Re-enter a password:\")\n",
    "        if pass1 == pass2:\n",
    "            print(\"Password Set\")\n",
    "            break  \n",
    "        else:\n",
    "            print(\"Error\")\n",
    "    else:\n",
    "        if pass1 in BAD_PASSWORDS:\n",
    "            print(\"Sorry it's too common. Choose a different password.\")\n",
    "        else:\n",
    "            print(\"Sorry password must be more than or between 8 and 12 characters.\")\n"
   ]
  },
  {
   "cell_type": "markdown",
   "id": "980c25d6-2e30-4a4e-8dc3-0e6986ce2a0c",
   "metadata": {},
   "source": [
    "6. Write a program that displays the \"Seven Times Table\". That is, the result of\n",
    "multiplying 7 by every number from 0 to 12 inclusive. The output might start:\n",
    "0 x 7 = 0\n",
    "1 x 7 = 7\n",
    "2 x 7 = 14\n",
    "and so on."
   ]
  },
  {
   "cell_type": "code",
   "execution_count": 42,
   "id": "99b67135-c3bc-4c2b-a74d-07fb787a9c48",
   "metadata": {},
   "outputs": [
    {
     "name": "stdout",
     "output_type": "stream",
     "text": [
      "0 * 7 = 0\n",
      "1 * 7 = 7\n",
      "2 * 7 = 14\n",
      "3 * 7 = 21\n",
      "4 * 7 = 28\n",
      "5 * 7 = 35\n",
      "6 * 7 = 42\n",
      "7 * 7 = 49\n",
      "8 * 7 = 56\n",
      "9 * 7 = 63\n",
      "10 * 7 = 70\n",
      "11 * 7 = 77\n",
      "12 * 7 = 84\n"
     ]
    }
   ],
   "source": [
    "for a in range(13):\n",
    "    print(a,\"*\",\"7\",\"=\",7*a)"
   ]
  },
  {
   "cell_type": "markdown",
   "id": "f401b203-2318-45e2-9b76-d18e15aff24a",
   "metadata": {},
   "source": [
    "7. Modify your \"Times Table\" program so that the user enters the number of the table\n",
    "they require. This number should be between 0 and 12 inclusive."
   ]
  },
  {
   "cell_type": "code",
   "execution_count": 49,
   "id": "05c96073-91df-408d-a37d-b57d7df27652",
   "metadata": {},
   "outputs": [
    {
     "name": "stdin",
     "output_type": "stream",
     "text": [
      "Enter a number: 5\n"
     ]
    },
    {
     "name": "stdout",
     "output_type": "stream",
     "text": [
      "5 * 0 = 0\n",
      "5 * 1 = 5\n",
      "5 * 2 = 10\n",
      "5 * 3 = 15\n",
      "5 * 4 = 20\n",
      "5 * 5 = 25\n",
      "5 * 6 = 30\n",
      "5 * 7 = 35\n",
      "5 * 8 = 40\n",
      "5 * 9 = 45\n",
      "5 * 10 = 50\n",
      "5 * 11 = 55\n",
      "5 * 12 = 60\n"
     ]
    }
   ],
   "source": [
    "a = int(input(\"Enter a number:\"))\n",
    "for i in range(13):\n",
    "    print(a,\"*\",i,\"=\",a*i)"
   ]
  },
  {
   "cell_type": "markdown",
   "id": "b7d46f81-655a-4daa-9fc8-737abec6d035",
   "metadata": {},
   "source": [
    "8. Modify the \"Times Table\" again so that the user still enters the number of the table,\n",
    "but if this number is negative the table is printed backwards. So entering \"-7\"\n",
    "would produce the Seven Times Table starting at \"12 times\" down to \"0 times\"."
   ]
  },
  {
   "cell_type": "code",
   "execution_count": 61,
   "id": "c9507add-96d7-4144-adc3-1fd07cb396ee",
   "metadata": {},
   "outputs": [
    {
     "name": "stdin",
     "output_type": "stream",
     "text": [
      "Enter the number of the table:  -7\n"
     ]
    },
    {
     "name": "stdout",
     "output_type": "stream",
     "text": [
      "12 * 7 = 84\n",
      "11 * 7 = 77\n",
      "10 * 7 = 70\n",
      "9 * 7 = 63\n",
      "8 * 7 = 56\n",
      "7 * 7 = 49\n",
      "6 * 7 = 42\n",
      "5 * 7 = 35\n",
      "4 * 7 = 28\n",
      "3 * 7 = 21\n",
      "2 * 7 = 14\n",
      "1 * 7 = 7\n",
      "0 * 7 = 0\n"
     ]
    }
   ],
   "source": [
    "a = int(input(\"Enter the number of the table: \"))\n",
    "if a < 0:\n",
    "    a = -a\n",
    "    for i in range(12,-1,-1): \n",
    "         print(i,\"*\",a,\"=\",i*a)\n",
    "else:\n",
    "    for i in range(13):\n",
    "         print(i,\"*\",a,\"=\",i*a)\n"
   ]
  }
 ],
 "metadata": {
  "kernelspec": {
   "display_name": "Python [conda env:base] *",
   "language": "python",
   "name": "conda-base-py"
  },
  "language_info": {
   "codemirror_mode": {
    "name": "ipython",
    "version": 3
   },
   "file_extension": ".py",
   "mimetype": "text/x-python",
   "name": "python",
   "nbconvert_exporter": "python",
   "pygments_lexer": "ipython3",
   "version": "3.12.7"
  }
 },
 "nbformat": 4,
 "nbformat_minor": 5
}
