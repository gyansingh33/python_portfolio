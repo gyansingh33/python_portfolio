{
 "cells": [
  {
   "cell_type": "markdown",
   "id": "249426bb-8de9-4c0f-99e1-c3a9161765f8",
   "metadata": {},
   "source": [
    "1. Write a function that accepts a positive integer as a parameter and then returns a\n",
    "representation of that number in binary (base 2).\n",
    "Hint: This is in many ways a trick question. Think!"
   ]
  },
  {
   "cell_type": "code",
   "execution_count": 14,
   "id": "67222122-d191-42ab-a75b-18dc8f421ee3",
   "metadata": {},
   "outputs": [
    {
     "name": "stdout",
     "output_type": "stream",
     "text": [
      "1000\n",
      "11001000\n"
     ]
    }
   ],
   "source": [
    "def binary(a):\n",
    "    if a < 0:     \n",
    "        raise ValueError(\"The parameter must be a positive integer.\")\n",
    "    return bin(a)[2:]\n",
    "print(binary(8))  \n",
    "print(binary(200)) "
   ]
  },
  {
   "cell_type": "markdown",
   "id": "21529eba-e260-4d07-9c67-8026cf532941",
   "metadata": {},
   "source": [
    "2. Write and test a function that takes an integer as its parameter and returns the\n",
    "factors of that integer. (A factor is an integer which can be multiplied by another to\n",
    "yield the original)."
   ]
  },
  {
   "cell_type": "code",
   "execution_count": 21,
   "id": "9673b86d-c697-4138-8ef3-de24d8f4a295",
   "metadata": {},
   "outputs": [
    {
     "name": "stdout",
     "output_type": "stream",
     "text": [
      "[1, 3, 9]\n",
      "[1, 2, 4, 5, 10, 20]\n"
     ]
    }
   ],
   "source": [
    "def factors(a):\n",
    "    if a <= 0:\n",
    "        raise ValueError(\"The parameter must be a positive integer.\")\n",
    "    factors = []\n",
    "    for i in range(1, a + 1):\n",
    "        if a % i == 0:\n",
    "            factors.append(i)\n",
    "    return factors\n",
    "print(factors(9)) \n",
    "print(factors(20))   "
   ]
  },
  {
   "cell_type": "markdown",
   "id": "bfc21d12-1d9d-43da-b487-e6d4c35bf70b",
   "metadata": {},
   "source": [
    "3. Write and test a function that determines if a given integer is a prime number. A\n",
    "prime number is an integer greater than 1 that cannot be produced by multiplying\n",
    "two other integers."
   ]
  },
  {
   "cell_type": "code",
   "execution_count": 28,
   "id": "4f5ef58f-6b3f-482b-897b-1060eeb8705c",
   "metadata": {},
   "outputs": [
    {
     "name": "stdout",
     "output_type": "stream",
     "text": [
      "True\n",
      "False\n"
     ]
    }
   ],
   "source": [
    "def prime(a):\n",
    "    if a <= 1:\n",
    "        return False\n",
    "    for i in range(2, int(a**0.5) + 1):\n",
    "        if a % i == 0:\n",
    "            return False\n",
    "    return True\n",
    "print(prime(5))  \n",
    "print(prime(8))  "
   ]
  },
  {
   "cell_type": "markdown",
   "id": "38779edc-4b10-4d99-84c6-9155527033e7",
   "metadata": {},
   "source": [
    "4. Computers are commonly used in encryption. A very simple form of encryption\n",
    "(more accurately \"obfuscation\") would be to remove the spaces from a message\n",
    "and reverse the resulting string. Write, and test, a function that takes a string\n",
    "containing a message and \"encrypts\" it in this way."
   ]
  },
  {
   "cell_type": "code",
   "execution_count": 33,
   "id": "b91cd308-8e52-4587-9194-a188eb75f2c4",
   "metadata": {},
   "outputs": [
    {
     "name": "stdout",
     "output_type": "stream",
     "text": [
      "nuphgnisnayg\n",
      "dlrowolleh\n",
      "noitpyrcne\n"
     ]
    }
   ],
   "source": [
    "def encrypts(message):\n",
    "    no_spaces = message.replace(\" \", \"\")\n",
    "    encrypted_message = no_spaces[::-1]\n",
    "    return encrypted_message\n",
    "print(encrypts(\"gyan singh pun\"))  \n",
    "print(encrypts(\"hello world\")) \n",
    "print(encrypts(\"encryption\"))\n"
   ]
  },
  {
   "cell_type": "markdown",
   "id": "7295d8cb-c4c5-4249-8ebe-45de600db86c",
   "metadata": {},
   "source": [
    "5. Another way to hide a message is to include the letters that make it up within\n",
    "seemingly random text. The letters of the message might be every fifth character,\n",
    "for example. Write and test a function that does such encryption. It should\n",
    "randomly generate an interval (between 2 and 20), space the message out\n",
    "accordingly, and should fill the gaps with random letters. The function should\n",
    "return the encrypted message and the interval used.\n",
    "For example, if the message is \"send cheese\", the random interval is 2, and for\n",
    "clarity the random letters are not random:\n",
    "send cheese\n",
    "s e n d c h e e s e\n",
    "sxyexynxydxy cxyhxyexyexysxye"
   ]
  },
  {
   "cell_type": "code",
   "execution_count": 79,
   "id": "22617488-da3a-4dbe-a5dc-dd4b2b1a9bd4",
   "metadata": {},
   "outputs": [
    {
     "name": "stdout",
     "output_type": "stream",
     "text": [
      "Original message: send cheese\n",
      "Encrypted message: svwefenitdql iacyjhrfeonejtszmetl\n",
      "Interval used: 3\n"
     ]
    }
   ],
   "source": [
    "import random\n",
    "import string\n",
    "\n",
    "def random_letter():\n",
    "    return random.choice(string.ascii_lowercase)\n",
    "\n",
    "def encrypt(message):\n",
    "    interval = random.randint(2, 20)\n",
    "    encrypted_message = []\n",
    "    message_index = 0\n",
    "    while message_index < len(message):\n",
    "        encrypted_message.append(message[message_index])\n",
    "        message_index += 1\n",
    "        for _ in range(interval - 1):\n",
    "            encrypted_message.append(random_letter())\n",
    "    return ''.join(encrypted_message), interval\n",
    "\n",
    "message = \"send cheese\"\n",
    "encrypted_message, interval = encrypt_message(message)\n",
    "print(f\"Original message: {message}\")\n",
    "print(f\"Encrypted message: {encrypted_message}\")\n",
    "print(f\"Interval used: {interval}\")"
   ]
  },
  {
   "cell_type": "markdown",
   "id": "90d8d018-f24d-4df6-a13d-d7d7ca4f7a4a",
   "metadata": {},
   "source": [
    "6. Write a program that decrypts messages encoded as above."
   ]
  },
  {
   "cell_type": "code",
   "execution_count": 92,
   "id": "1ca40cc0-6d05-4bd3-9950-19a8fd8f2cef",
   "metadata": {},
   "outputs": [
    {
     "name": "stdout",
     "output_type": "stream",
     "text": [
      "Encrypted message: sneoahettfdontcxaldavkog cxvmhcxnacbheyxbaeldccfevsmraszimfxeikgoi\n",
      "Decrypted message: send cheese\n",
      "Interval used: 6\n"
     ]
    }
   ],
   "source": [
    "def decrypt(encrypted_message, interval):\n",
    "    original_message = ''.join(encrypted_message[i] for i in range(0, len(encrypted_message), interval))\n",
    "    return original_message\n",
    "    \n",
    "encrypted_message, interval = encrypt_message(\"send cheese\")\n",
    "decrypted_message = decrypt(encrypted_message, interval)\n",
    "print(f\"Encrypted message: {encrypted_message}\")\n",
    "print(f\"Decrypted message: {decrypted_message}\")\n",
    "print(f\"Interval used: {interval}\")"
   ]
  }
 ],
 "metadata": {
  "kernelspec": {
   "display_name": "Python [conda env:base] *",
   "language": "python",
   "name": "conda-base-py"
  },
  "language_info": {
   "codemirror_mode": {
    "name": "ipython",
    "version": 3
   },
   "file_extension": ".py",
   "mimetype": "text/x-python",
   "name": "python",
   "nbconvert_exporter": "python",
   "pygments_lexer": "ipython3",
   "version": "3.12.7"
  }
 },
 "nbformat": 4,
 "nbformat_minor": 5
}
